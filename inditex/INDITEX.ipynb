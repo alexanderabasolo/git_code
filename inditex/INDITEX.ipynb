{
 "cells": [
  {
   "cell_type": "code",
   "execution_count": 138,
   "id": "96aabe49",
   "metadata": {},
   "outputs": [
    {
     "name": "stdout",
     "output_type": "stream",
     "text": [
      "Datos del archivo 1:\n",
      "  courier;\"hub\";\"destination\";\"weight_category\";\"fare\"\n",
      "0        courier_7;\"hub_9\";\"dest_1\";\"weight_1\";44.86  \n",
      "1        courier_8;\"hub_9\";\"dest_1\";\"weight_1\";32.99  \n",
      "2        courier_5;\"hub_9\";\"dest_1\";\"weight_1\";45.49  \n",
      "3        courier_4;\"hub_9\";\"dest_1\";\"weight_1\";43.11  \n",
      "4         courier_6;\"hub_9\";\"dest_1\";\"weight_1\";38.8  \n"
     ]
    }
   ],
   "source": [
    "import pandas as pd\n",
    "\n",
    "courier_fare = 'C:\\\\Users\\\\Alejandro\\\\Downloads\\\\courier_fare.csv'\n",
    "orders = 'C:\\\\Users\\\\Alejandro\\\\Downloads\\\\orders.csv'\n",
    "trucker_capacity = 'C:\\\\Users\\\\Alejandro\\\\Downloads\\\\trucker_capacity.csv'\n",
    "trucker_fare = 'C:\\\\Users\\\\Alejandro\\\\Downloads\\\\trucker_fare.csv'\n",
    "\n",
    "\n",
    "# Cargar datos en DataFrames individuales\n",
    "datos1 = pd.read_csv(courier_fare)\n",
    "datos2 = pd.read_csv(orders)\n",
    "datos3 = pd.read_csv(trucker_capacity)\n",
    "datos4 = pd.read_csv(trucker_fare)\n",
    "\n",
    "# Mostrar los primeros registros de cada DataFrame\n",
    "print(\"Datos del archivo 1:\")\n",
    "print(datos1.head())"
   ]
  },
  {
   "cell_type": "code",
   "execution_count": 139,
   "id": "cdc4918f",
   "metadata": {},
   "outputs": [
    {
     "name": "stdout",
     "output_type": "stream",
     "text": [
      "\n",
      "Información y estadísticas básicas del archivo courier_fare.csv:\n",
      "<class 'pandas.core.frame.DataFrame'>\n",
      "RangeIndex: 6373 entries, 0 to 6372\n",
      "Data columns (total 1 columns):\n",
      " #   Column                                                Non-Null Count  Dtype \n",
      "---  ------                                                --------------  ----- \n",
      " 0   courier;\"hub\";\"destination\";\"weight_category\";\"fare\"  6373 non-null   object\n",
      "dtypes: object(1)\n",
      "memory usage: 49.9+ KB\n",
      "None\n",
      "       courier;\"hub\";\"destination\";\"weight_category\";\"fare\"\n",
      "count                                                6373  \n",
      "unique                                               6373  \n",
      "top           courier_7;\"hub_9\";\"dest_1\";\"weight_1\";44.86  \n",
      "freq                                                    1  \n",
      "\n",
      "Información y estadísticas básicas del archivo orders.csv:\n",
      "<class 'pandas.core.frame.DataFrame'>\n",
      "RangeIndex: 150 entries, 0 to 149\n",
      "Data columns (total 1 columns):\n",
      " #   Column                              Non-Null Count  Dtype \n",
      "---  ------                              --------------  ----- \n",
      " 0   id;\"destination\";\"weight_category\"  150 non-null    object\n",
      "dtypes: object(1)\n",
      "memory usage: 1.3+ KB\n",
      "None\n",
      "       id;\"destination\";\"weight_category\"\n",
      "count                                 150\n",
      "unique                                150\n",
      "top                1;\"dest_71\";\"weight_6\"\n",
      "freq                                    1\n",
      "\n",
      "Información y estadísticas básicas del archivo trucker_capacity.csv:\n",
      "<class 'pandas.core.frame.DataFrame'>\n",
      "RangeIndex: 8 entries, 0 to 7\n",
      "Data columns (total 1 columns):\n",
      " #   Column                    Non-Null Count  Dtype \n",
      "---  ------                    --------------  ----- \n",
      " 0   trucker;\"order_by_truck\"  8 non-null      object\n",
      "dtypes: object(1)\n",
      "memory usage: 196.0+ bytes\n",
      "None\n",
      "       trucker;\"order_by_truck\"\n",
      "count                         8\n",
      "unique                        8\n",
      "top                trucker_1;35\n",
      "freq                          1\n",
      "\n",
      "Información y estadísticas básicas del archivo trucker_fare.csv:\n",
      "<class 'pandas.core.frame.DataFrame'>\n",
      "RangeIndex: 82 entries, 0 to 81\n",
      "Data columns (total 1 columns):\n",
      " #   Column                              Non-Null Count  Dtype \n",
      "---  ------                              --------------  ----- \n",
      " 0   trucker;\"fare_by_truck\";\"dest_hub\"  82 non-null     object\n",
      "dtypes: object(1)\n",
      "memory usage: 788.0+ bytes\n",
      "None\n",
      "        trucker;\"fare_by_truck\";\"dest_hub\"\n",
      "count                                   82\n",
      "unique                                  82\n",
      "top     trucker_1;9926.42784418122;\"hub_9\"\n",
      "freq                                     1\n"
     ]
    }
   ],
   "source": [
    "# Análisis exploratorio de datos (EDA) para cada DataFrame\n",
    "\n",
    "# Datos del archivo 1: courier_fare.csv\n",
    "print(\"\\nInformación y estadísticas básicas del archivo courier_fare.csv:\")\n",
    "print(datos1.info())\n",
    "print(datos1.describe())\n",
    "\n",
    "# Datos del archivo 2: orders.csv\n",
    "print(\"\\nInformación y estadísticas básicas del archivo orders.csv:\")\n",
    "print(datos2.info())\n",
    "print(datos2.describe())\n",
    "\n",
    "# Datos del archivo 3: trucker_capacity.csv\n",
    "print(\"\\nInformación y estadísticas básicas del archivo trucker_capacity.csv:\")\n",
    "print(datos3.info())\n",
    "print(datos3.describe())\n",
    "\n",
    "# Datos del archivo 4: trucker_fare.csv\n",
    "print(\"\\nInformación y estadísticas básicas del archivo trucker_fare.csv:\")\n",
    "print(datos4.info())\n",
    "print(datos4.describe())\n"
   ]
  },
  {
   "cell_type": "code",
   "execution_count": 140,
   "id": "72a94141",
   "metadata": {},
   "outputs": [],
   "source": [
    "# Corrección del archivo orders.csv\n",
    "datos2[['id', 'destination', 'weight_category']] = datos2['id;\"destination\";\"weight_category\"'].str.split(';', expand=True)\n",
    "datos2 = datos2[['id', 'destination', 'weight_category']]\n"
   ]
  },
  {
   "cell_type": "code",
   "execution_count": 141,
   "id": "8218cf5f",
   "metadata": {},
   "outputs": [],
   "source": [
    "# Corrección del archivo trucker_capacity.csv\n",
    "datos3[['trucker', 'order_by_truck']] = datos3['trucker;\"order_by_truck\"'].str.split(';', expand=True)\n",
    "datos3 = datos3[['trucker', 'order_by_truck']]\n"
   ]
  },
  {
   "cell_type": "code",
   "execution_count": 142,
   "id": "3fc02fed",
   "metadata": {},
   "outputs": [],
   "source": [
    "# Corrección del archivo trucker_fare.csv\n",
    "datos4[['trucker', 'fare_by_truck', 'dest_hub']] = datos4['trucker;\"fare_by_truck\";\"dest_hub\"'].str.split(';', expand=True)\n",
    "datos4 = datos4[['trucker', 'fare_by_truck', 'dest_hub']]"
   ]
  },
  {
   "cell_type": "code",
   "execution_count": 143,
   "id": "3d8ea2b2",
   "metadata": {},
   "outputs": [
    {
     "name": "stdout",
     "output_type": "stream",
     "text": [
      "  id destination weight_category\n",
      "0  1   \"dest_71\"      \"weight_6\"\n",
      "1  2   \"dest_78\"      \"weight_6\"\n",
      "2  3   \"dest_95\"      \"weight_3\"\n",
      "3  4   \"dest_32\"      \"weight_2\"\n",
      "4  5   \"dest_74\"      \"weight_2\"\n"
     ]
    }
   ],
   "source": [
    "print(datos2.head())"
   ]
  },
  {
   "cell_type": "code",
   "execution_count": 144,
   "id": "6ff8fefe",
   "metadata": {},
   "outputs": [
    {
     "name": "stdout",
     "output_type": "stream",
     "text": [
      "Valores únicos en 'destination' de datos1:\n",
      "['\"dest_1\"' '\"dest_2\"' '\"dest_3\"' '\"dest_4\"' '\"dest_5\"' '\"dest_6\"'\n",
      " '\"dest_7\"' '\"dest_8\"' '\"dest_9\"' '\"dest_10\"' '\"dest_11\"' '\"dest_12\"'\n",
      " '\"dest_13\"' '\"dest_14\"' '\"dest_15\"' '\"dest_16\"' '\"dest_17\"' '\"dest_18\"'\n",
      " '\"dest_19\"' '\"dest_20\"' '\"dest_21\"' '\"dest_22\"' '\"dest_23\"' '\"dest_24\"'\n",
      " '\"dest_25\"' '\"dest_26\"' '\"dest_27\"' '\"dest_28\"' '\"dest_29\"' '\"dest_30\"'\n",
      " '\"dest_31\"' '\"dest_32\"' '\"dest_33\"' '\"dest_34\"' '\"dest_35\"' '\"dest_36\"'\n",
      " '\"dest_37\"' '\"dest_38\"' '\"dest_39\"' '\"dest_40\"' '\"dest_41\"' '\"dest_42\"'\n",
      " '\"dest_43\"' '\"dest_44\"' '\"dest_45\"' '\"dest_46\"' '\"dest_47\"' '\"dest_48\"'\n",
      " '\"dest_49\"' '\"dest_50\"' '\"dest_51\"' '\"dest_52\"' '\"dest_53\"' '\"dest_54\"'\n",
      " '\"dest_55\"' '\"dest_56\"' '\"dest_57\"' '\"dest_58\"' '\"dest_59\"' '\"dest_60\"'\n",
      " '\"dest_61\"' '\"dest_62\"' '\"dest_63\"' '\"dest_64\"' '\"dest_65\"' '\"dest_66\"'\n",
      " '\"dest_67\"' '\"dest_68\"' '\"dest_69\"' '\"dest_70\"' '\"dest_71\"' '\"dest_72\"'\n",
      " '\"dest_73\"' '\"dest_74\"' '\"dest_75\"' '\"dest_76\"' '\"dest_77\"' '\"dest_78\"'\n",
      " '\"dest_79\"' '\"dest_80\"' '\"dest_81\"' '\"dest_82\"' '\"dest_83\"' '\"dest_84\"'\n",
      " '\"dest_85\"' '\"dest_86\"' '\"dest_87\"' '\"dest_88\"' '\"dest_89\"' '\"dest_90\"'\n",
      " '\"dest_91\"' '\"dest_92\"' '\"dest_93\"' '\"dest_94\"' '\"dest_95\"' '\"dest_96\"'\n",
      " '\"dest_97\"' '\"dest_98\"' '\"dest_99\"' '\"dest_100\"']\n"
     ]
    }
   ],
   "source": [
    "# Dividir la columna única en múltiples columnas basadas en el delimitador \";\"\n",
    "datos1[['courier', 'hub', 'destination', 'weight_category', 'fare']] = datos1['courier;\"hub\";\"destination\";\"weight_category\";\"fare\"'].str.split(';', expand=True)\n",
    "\n",
    "# Eliminar la columna original\n",
    "datos1 = datos1.drop(columns=['courier;\"hub\";\"destination\";\"weight_category\";\"fare\"'])\n",
    "\n",
    "# Ahora intenta de nuevo imprimir los valores únicos en 'destination' de datos1\n",
    "print(\"Valores únicos en 'destination' de datos1:\")\n",
    "print(datos1['destination'].unique())"
   ]
  },
  {
   "cell_type": "code",
   "execution_count": 145,
   "id": "6af821b6",
   "metadata": {},
   "outputs": [
    {
     "name": "stdout",
     "output_type": "stream",
     "text": [
      "Valores únicos en 'destination' de datos1:\n",
      "['hub_9' 'hub_5' 'hub_11' 'hub_7' 'hub_13' 'hub_1' 'hub_2' 'hub_15'\n",
      " 'hub_10' 'hub_14' 'hub_3' 'hub_6' 'hub_4' 'hub_8' 'hub_12']\n",
      "['dest_1' 'dest_2' 'dest_3' 'dest_4' 'dest_5' 'dest_6' 'dest_7' 'dest_8'\n",
      " 'dest_9' 'dest_10' 'dest_11' 'dest_12' 'dest_13' 'dest_14' 'dest_15'\n",
      " 'dest_16' 'dest_17' 'dest_18' 'dest_19' 'dest_20' 'dest_21' 'dest_22'\n",
      " 'dest_23' 'dest_24' 'dest_25' 'dest_26' 'dest_27' 'dest_28' 'dest_29'\n",
      " 'dest_30' 'dest_31' 'dest_32' 'dest_33' 'dest_34' 'dest_35' 'dest_36'\n",
      " 'dest_37' 'dest_38' 'dest_39' 'dest_40' 'dest_41' 'dest_42' 'dest_43'\n",
      " 'dest_44' 'dest_45' 'dest_46' 'dest_47' 'dest_48' 'dest_49' 'dest_50'\n",
      " 'dest_51' 'dest_52' 'dest_53' 'dest_54' 'dest_55' 'dest_56' 'dest_57'\n",
      " 'dest_58' 'dest_59' 'dest_60' 'dest_61' 'dest_62' 'dest_63' 'dest_64'\n",
      " 'dest_65' 'dest_66' 'dest_67' 'dest_68' 'dest_69' 'dest_70' 'dest_71'\n",
      " 'dest_72' 'dest_73' 'dest_74' 'dest_75' 'dest_76' 'dest_77' 'dest_78'\n",
      " 'dest_79' 'dest_80' 'dest_81' 'dest_82' 'dest_83' 'dest_84' 'dest_85'\n",
      " 'dest_86' 'dest_87' 'dest_88' 'dest_89' 'dest_90' 'dest_91' 'dest_92'\n",
      " 'dest_93' 'dest_94' 'dest_95' 'dest_96' 'dest_97' 'dest_98' 'dest_99'\n",
      " 'dest_100']\n",
      "['weight_1' 'weight_2' 'weight_3' 'weight_4' 'weight_5' 'weight_6']\n",
      "['dest_1' 'dest_2' 'dest_3' 'dest_4']\n",
      "['weight_1' 'weight_2' 'weight_3' 'weight_4' 'weight_5' 'weight_6']\n",
      "['hub_9' 'hub_13' 'hub_1' 'hub_12' 'hub_4' 'hub_3' 'hub_6' 'hub_8'\n",
      " 'hub_15' 'hub_14' 'hub_5' 'hub_2' 'hub_10' 'hub_7' 'hub_11']\n"
     ]
    }
   ],
   "source": [
    "# Eliminar comillas dobles de los valores en 'destination'\n",
    "datos1['hub'] = datos1['hub'].str.replace('\"', '')\n",
    "datos1['destination'] = datos1['destination'].str.replace('\"', '')\n",
    "datos1['weight_category'] = datos1['weight_category'].str.replace('\"', '')\n",
    "datos2['destination'] = datos1['destination'].str.replace('\"', '')\n",
    "datos2['weight_category'] = datos1['weight_category'].str.replace('\"', '')\n",
    "datos4['dest_hub'] = datos4['dest_hub'].str.replace('\"', '')\n",
    "\n",
    "# Ahora intenta de nuevo imprimir los valores únicos en 'destination' de datos1\n",
    "print(\"Valores únicos en 'destination' de datos1:\")\n",
    "print(datos1['hub'].unique())\n",
    "print(datos1['destination'].unique())\n",
    "print(datos1['weight_category'].unique())\n",
    "print(datos2['destination'].unique())\n",
    "print(datos2['weight_category'].unique())\n",
    "print(datos4['dest_hub'].unique())"
   ]
  },
  {
   "cell_type": "code",
   "execution_count": 146,
   "id": "367464ee",
   "metadata": {},
   "outputs": [
    {
     "name": "stdout",
     "output_type": "stream",
     "text": [
      "Datos corregidos del archivo courier_fare.csv:\n",
      "     courier    hub destination weight_category   fare\n",
      "0  courier_7  hub_9      dest_1        weight_1  44.86\n",
      "1  courier_8  hub_9      dest_1        weight_1  32.99\n",
      "2  courier_5  hub_9      dest_1        weight_1  45.49\n",
      "3  courier_4  hub_9      dest_1        weight_1  43.11\n",
      "4  courier_6  hub_9      dest_1        weight_1   38.8\n",
      "Datos corregidos del archivo orders.csv:\n",
      "  id destination weight_category\n",
      "0  1      dest_1        weight_1\n",
      "1  2      dest_1        weight_1\n",
      "2  3      dest_1        weight_1\n",
      "3  4      dest_1        weight_1\n",
      "4  5      dest_1        weight_1\n",
      "\n",
      "Datos corregidos del archivo trucker_capacity.csv:\n",
      "     trucker order_by_truck\n",
      "0  trucker_1             35\n",
      "1  trucker_2             20\n",
      "2  trucker_3             38\n",
      "3  trucker_4             15\n",
      "4  trucker_5             18\n",
      "\n",
      "Datos corregidos del archivo trucker_fare.csv:\n",
      "     trucker       fare_by_truck dest_hub\n",
      "0  trucker_1    9926.42784418122    hub_9\n",
      "1  trucker_1   2572.609692279924   hub_13\n",
      "2  trucker_1  12930.407745920837    hub_1\n",
      "3  trucker_1   4480.547106430421   hub_12\n",
      "4  trucker_1  14510.637605372596    hub_4\n"
     ]
    }
   ],
   "source": [
    "# Mostrar los primeros registros de cada DataFrame corregido\n",
    "print(\"Datos corregidos del archivo courier_fare.csv:\")\n",
    "print(datos1.head())\n",
    "\n",
    "print(\"Datos corregidos del archivo orders.csv:\")\n",
    "print(datos2.head())\n",
    "\n",
    "print(\"\\nDatos corregidos del archivo trucker_capacity.csv:\")\n",
    "print(datos3.head())\n",
    "\n",
    "print(\"\\nDatos corregidos del archivo trucker_fare.csv:\")\n",
    "print(datos4.head())"
   ]
  },
  {
   "cell_type": "code",
   "execution_count": 147,
   "id": "362dec56",
   "metadata": {},
   "outputs": [],
   "source": [
    "# Combinar datos1 y datos2 en un nuevo DataFrame\n",
    "merged_data1_2 = pd.merge(datos1, datos2, on=['destination'], how='left')"
   ]
  },
  {
   "cell_type": "code",
   "execution_count": 156,
   "id": "59fa7688",
   "metadata": {
    "scrolled": true
   },
   "outputs": [],
   "source": [
    "# Combinar merged_data3_4 y datos4 en un nuevo DataFrame\n",
    "merged_data3_4 = pd.merge(datos4, datos3, on=['trucker'], how='left')"
   ]
  },
  {
   "cell_type": "code",
   "execution_count": 149,
   "id": "f0439506",
   "metadata": {},
   "outputs": [],
   "source": [
    "merged_data1_2['destination'] = merged_data1_2['destination'].str.strip()\n",
    "merged_data3_4['dest_hub'] = merged_data3_4['dest_hub'].str.strip()\n"
   ]
  },
  {
   "cell_type": "code",
   "execution_count": 150,
   "id": "ccf04b4b",
   "metadata": {},
   "outputs": [
    {
     "name": "stdout",
     "output_type": "stream",
     "text": [
      "courier              object\n",
      "hub                  object\n",
      "destination          object\n",
      "weight_category_x    object\n",
      "fare                 object\n",
      "id                   object\n",
      "weight_category_y    object\n",
      "dtype: object\n",
      "trucker           object\n",
      "order_by_truck    object\n",
      "fare_by_truck     object\n",
      "dest_hub          object\n",
      "dtype: object\n"
     ]
    }
   ],
   "source": [
    "print(merged_data1_2.dtypes)\n",
    "print(merged_data3_4.dtypes)\n"
   ]
  },
  {
   "cell_type": "code",
   "execution_count": 151,
   "id": "f7f71980",
   "metadata": {},
   "outputs": [
    {
     "name": "stdout",
     "output_type": "stream",
     "text": [
      "\n",
      "Datos de la primera tabla combinada:\n",
      "     courier    hub destination weight_category_x   fare id weight_category_y\n",
      "0  courier_7  hub_9      dest_1          weight_1  44.86  1          weight_1\n",
      "1  courier_7  hub_9      dest_1          weight_1  44.86  2          weight_1\n",
      "2  courier_7  hub_9      dest_1          weight_1  44.86  3          weight_1\n",
      "3  courier_7  hub_9      dest_1          weight_1  44.86  4          weight_1\n",
      "4  courier_7  hub_9      dest_1          weight_1  44.86  5          weight_1\n"
     ]
    }
   ],
   "source": [
    "print(\"\\nDatos de la primera tabla combinada:\")\n",
    "print(merged_data1_2.head())"
   ]
  },
  {
   "cell_type": "code",
   "execution_count": 152,
   "id": "0585956e",
   "metadata": {},
   "outputs": [
    {
     "name": "stdout",
     "output_type": "stream",
     "text": [
      "\n",
      "Datos corregidos del archivo trucker_capacity.csv:\n",
      "     trucker order_by_truck       fare_by_truck dest_hub\n",
      "0  trucker_1             35    9926.42784418122    hub_9\n",
      "1  trucker_1             35   2572.609692279924   hub_13\n",
      "2  trucker_1             35  12930.407745920837    hub_1\n",
      "3  trucker_1             35   4480.547106430421   hub_12\n",
      "4  trucker_1             35  14510.637605372596    hub_4\n"
     ]
    }
   ],
   "source": [
    "print(\"\\nDatos corregidos del archivo trucker_capacity.csv:\")\n",
    "print(merged_data3_4.head())"
   ]
  },
  {
   "cell_type": "code",
   "execution_count": 153,
   "id": "ad3f3052",
   "metadata": {},
   "outputs": [
    {
     "name": "stdout",
     "output_type": "stream",
     "text": [
      "\n",
      "Datos de la primera tabla combinada después de la conversión:\n",
      "     courier    hub destination weight_category_x   fare id weight_category_y\n",
      "0  courier_7  hub_9      dest_1          weight_1  44.86  1          weight_1\n",
      "1  courier_7  hub_9      dest_1          weight_1  44.86  2          weight_1\n",
      "2  courier_7  hub_9      dest_1          weight_1  44.86  3          weight_1\n",
      "3  courier_7  hub_9      dest_1          weight_1  44.86  4          weight_1\n",
      "4  courier_7  hub_9      dest_1          weight_1  44.86  5          weight_1\n"
     ]
    }
   ],
   "source": [
    "# Convertir la columna 'fare' a tipo numérico\n",
    "merged_data1_2['fare'] = pd.to_numeric(merged_data1_2['fare'], errors='coerce')\n",
    "\n",
    "# Mostrar los datos después de la conversión\n",
    "print(\"\\nDatos de la primera tabla combinada después de la conversión:\")\n",
    "print(merged_data1_2.head())\n"
   ]
  },
  {
   "cell_type": "code",
   "execution_count": 154,
   "id": "98ef70e4",
   "metadata": {},
   "outputs": [
    {
     "name": "stdout",
     "output_type": "stream",
     "text": [
      "\n",
      "Datos de la primera tabla combinada después de la conversión:\n",
      "     trucker  order_by_truck  fare_by_truck dest_hub\n",
      "0  trucker_1              35    9926.427844    hub_9\n",
      "1  trucker_1              35    2572.609692   hub_13\n",
      "2  trucker_1              35   12930.407746    hub_1\n",
      "3  trucker_1              35    4480.547106   hub_12\n",
      "4  trucker_1              35   14510.637605    hub_4\n"
     ]
    }
   ],
   "source": [
    "# Convertir la columna 'fare' a tipo numérico\n",
    "merged_data3_4['order_by_truck'] = pd.to_numeric(merged_data3_4['order_by_truck'], errors='coerce')\n",
    "merged_data3_4['fare_by_truck'] = pd.to_numeric(merged_data3_4['fare_by_truck'], errors='coerce')\n",
    "\n",
    "# Mostrar los datos después de la conversión\n",
    "print(\"\\nDatos de la primera tabla combinada después de la conversión:\")\n",
    "print(merged_data3_4.head())\n"
   ]
  },
  {
   "cell_type": "code",
   "execution_count": 155,
   "id": "bf3bae98",
   "metadata": {},
   "outputs": [
    {
     "name": "stdout",
     "output_type": "stream",
     "text": [
      "Requirement already satisfied: pulp in c:\\users\\alejandro\\anaconda3\\lib\\site-packages (2.8.0)\n"
     ]
    },
    {
     "ename": "TypeError",
     "evalue": "unsupported operand type(s) for *: 'NoneType' and 'float'",
     "output_type": "error",
     "traceback": [
      "\u001b[1;31m---------------------------------------------------------------------------\u001b[0m",
      "\u001b[1;31mTypeError\u001b[0m                                 Traceback (most recent call last)",
      "Cell \u001b[1;32mIn[155], line 15\u001b[0m\n\u001b[0;32m     12\u001b[0m X \u001b[38;5;241m=\u001b[39m pulp\u001b[38;5;241m.\u001b[39mLpVariable\u001b[38;5;241m.\u001b[39mdicts(\u001b[38;5;124m\"\u001b[39m\u001b[38;5;124mX\u001b[39m\u001b[38;5;124m\"\u001b[39m, [(i\u001b[38;5;241m.\u001b[39mreplace(\u001b[38;5;124m'\u001b[39m\u001b[38;5;124m \u001b[39m\u001b[38;5;124m'\u001b[39m, \u001b[38;5;124m'\u001b[39m\u001b[38;5;124m_\u001b[39m\u001b[38;5;124m'\u001b[39m), j\u001b[38;5;241m.\u001b[39mreplace(\u001b[38;5;124m'\u001b[39m\u001b[38;5;124m \u001b[39m\u001b[38;5;124m'\u001b[39m, \u001b[38;5;124m'\u001b[39m\u001b[38;5;124m_\u001b[39m\u001b[38;5;124m'\u001b[39m)) \u001b[38;5;28;01mfor\u001b[39;00m i \u001b[38;5;129;01min\u001b[39;00m destinations \u001b[38;5;28;01mfor\u001b[39;00m j \u001b[38;5;129;01min\u001b[39;00m hubs], cat\u001b[38;5;241m=\u001b[39m\u001b[38;5;124m'\u001b[39m\u001b[38;5;124mBinary\u001b[39m\u001b[38;5;124m'\u001b[39m)\n\u001b[0;32m     14\u001b[0m \u001b[38;5;66;03m# Calcular el costo total antes de agregarlo a la función objetivo\u001b[39;00m\n\u001b[1;32m---> 15\u001b[0m total_cost \u001b[38;5;241m=\u001b[39m \u001b[38;5;28msum\u001b[39m(X[i, j]\u001b[38;5;241m.\u001b[39mvarValue \u001b[38;5;241m*\u001b[39m merged_data1_2\u001b[38;5;241m.\u001b[39mloc[(merged_data1_2[\u001b[38;5;124m'\u001b[39m\u001b[38;5;124mdestination\u001b[39m\u001b[38;5;124m'\u001b[39m] \u001b[38;5;241m==\u001b[39m i) \u001b[38;5;241m&\u001b[39m \n\u001b[0;32m     16\u001b[0m                                                        (merged_data1_2[\u001b[38;5;124m'\u001b[39m\u001b[38;5;124mhub\u001b[39m\u001b[38;5;124m'\u001b[39m] \u001b[38;5;241m==\u001b[39m j), \u001b[38;5;124m'\u001b[39m\u001b[38;5;124mfare\u001b[39m\u001b[38;5;124m'\u001b[39m]\u001b[38;5;241m.\u001b[39mvalues[\u001b[38;5;241m0\u001b[39m]\n\u001b[0;32m     17\u001b[0m                  \u001b[38;5;28;01mif\u001b[39;00m \u001b[38;5;129;01mnot\u001b[39;00m merged_data1_2\u001b[38;5;241m.\u001b[39mloc[(merged_data1_2[\u001b[38;5;124m'\u001b[39m\u001b[38;5;124mdestination\u001b[39m\u001b[38;5;124m'\u001b[39m] \u001b[38;5;241m==\u001b[39m i) \u001b[38;5;241m&\u001b[39m \n\u001b[0;32m     18\u001b[0m                                             (merged_data1_2[\u001b[38;5;124m'\u001b[39m\u001b[38;5;124mhub\u001b[39m\u001b[38;5;124m'\u001b[39m] \u001b[38;5;241m==\u001b[39m j), \u001b[38;5;124m'\u001b[39m\u001b[38;5;124mfare\u001b[39m\u001b[38;5;124m'\u001b[39m]\u001b[38;5;241m.\u001b[39mempty\n\u001b[0;32m     19\u001b[0m                  \u001b[38;5;28;01melse\u001b[39;00m \u001b[38;5;241m0\u001b[39m\n\u001b[0;32m     20\u001b[0m                  \u001b[38;5;28;01mfor\u001b[39;00m i \u001b[38;5;129;01min\u001b[39;00m destinations \u001b[38;5;28;01mfor\u001b[39;00m j \u001b[38;5;129;01min\u001b[39;00m hubs)\n\u001b[0;32m     22\u001b[0m \u001b[38;5;66;03m# Función objetivo\u001b[39;00m\n\u001b[0;32m     23\u001b[0m prob \u001b[38;5;241m+\u001b[39m\u001b[38;5;241m=\u001b[39m total_cost, \u001b[38;5;124m\"\u001b[39m\u001b[38;5;124mCosto_Total\u001b[39m\u001b[38;5;124m\"\u001b[39m\n",
      "Cell \u001b[1;32mIn[155], line 15\u001b[0m, in \u001b[0;36m<genexpr>\u001b[1;34m(.0)\u001b[0m\n\u001b[0;32m     12\u001b[0m X \u001b[38;5;241m=\u001b[39m pulp\u001b[38;5;241m.\u001b[39mLpVariable\u001b[38;5;241m.\u001b[39mdicts(\u001b[38;5;124m\"\u001b[39m\u001b[38;5;124mX\u001b[39m\u001b[38;5;124m\"\u001b[39m, [(i\u001b[38;5;241m.\u001b[39mreplace(\u001b[38;5;124m'\u001b[39m\u001b[38;5;124m \u001b[39m\u001b[38;5;124m'\u001b[39m, \u001b[38;5;124m'\u001b[39m\u001b[38;5;124m_\u001b[39m\u001b[38;5;124m'\u001b[39m), j\u001b[38;5;241m.\u001b[39mreplace(\u001b[38;5;124m'\u001b[39m\u001b[38;5;124m \u001b[39m\u001b[38;5;124m'\u001b[39m, \u001b[38;5;124m'\u001b[39m\u001b[38;5;124m_\u001b[39m\u001b[38;5;124m'\u001b[39m)) \u001b[38;5;28;01mfor\u001b[39;00m i \u001b[38;5;129;01min\u001b[39;00m destinations \u001b[38;5;28;01mfor\u001b[39;00m j \u001b[38;5;129;01min\u001b[39;00m hubs], cat\u001b[38;5;241m=\u001b[39m\u001b[38;5;124m'\u001b[39m\u001b[38;5;124mBinary\u001b[39m\u001b[38;5;124m'\u001b[39m)\n\u001b[0;32m     14\u001b[0m \u001b[38;5;66;03m# Calcular el costo total antes de agregarlo a la función objetivo\u001b[39;00m\n\u001b[1;32m---> 15\u001b[0m total_cost \u001b[38;5;241m=\u001b[39m \u001b[38;5;28msum\u001b[39m(X[i, j]\u001b[38;5;241m.\u001b[39mvarValue \u001b[38;5;241m*\u001b[39m merged_data1_2\u001b[38;5;241m.\u001b[39mloc[(merged_data1_2[\u001b[38;5;124m'\u001b[39m\u001b[38;5;124mdestination\u001b[39m\u001b[38;5;124m'\u001b[39m] \u001b[38;5;241m==\u001b[39m i) \u001b[38;5;241m&\u001b[39m \n\u001b[0;32m     16\u001b[0m                                                        (merged_data1_2[\u001b[38;5;124m'\u001b[39m\u001b[38;5;124mhub\u001b[39m\u001b[38;5;124m'\u001b[39m] \u001b[38;5;241m==\u001b[39m j), \u001b[38;5;124m'\u001b[39m\u001b[38;5;124mfare\u001b[39m\u001b[38;5;124m'\u001b[39m]\u001b[38;5;241m.\u001b[39mvalues[\u001b[38;5;241m0\u001b[39m]\n\u001b[0;32m     17\u001b[0m                  \u001b[38;5;28;01mif\u001b[39;00m \u001b[38;5;129;01mnot\u001b[39;00m merged_data1_2\u001b[38;5;241m.\u001b[39mloc[(merged_data1_2[\u001b[38;5;124m'\u001b[39m\u001b[38;5;124mdestination\u001b[39m\u001b[38;5;124m'\u001b[39m] \u001b[38;5;241m==\u001b[39m i) \u001b[38;5;241m&\u001b[39m \n\u001b[0;32m     18\u001b[0m                                             (merged_data1_2[\u001b[38;5;124m'\u001b[39m\u001b[38;5;124mhub\u001b[39m\u001b[38;5;124m'\u001b[39m] \u001b[38;5;241m==\u001b[39m j), \u001b[38;5;124m'\u001b[39m\u001b[38;5;124mfare\u001b[39m\u001b[38;5;124m'\u001b[39m]\u001b[38;5;241m.\u001b[39mempty\n\u001b[0;32m     19\u001b[0m                  \u001b[38;5;28;01melse\u001b[39;00m \u001b[38;5;241m0\u001b[39m\n\u001b[0;32m     20\u001b[0m                  \u001b[38;5;28;01mfor\u001b[39;00m i \u001b[38;5;129;01min\u001b[39;00m destinations \u001b[38;5;28;01mfor\u001b[39;00m j \u001b[38;5;129;01min\u001b[39;00m hubs)\n\u001b[0;32m     22\u001b[0m \u001b[38;5;66;03m# Función objetivo\u001b[39;00m\n\u001b[0;32m     23\u001b[0m prob \u001b[38;5;241m+\u001b[39m\u001b[38;5;241m=\u001b[39m total_cost, \u001b[38;5;124m\"\u001b[39m\u001b[38;5;124mCosto_Total\u001b[39m\u001b[38;5;124m\"\u001b[39m\n",
      "\u001b[1;31mTypeError\u001b[0m: unsupported operand type(s) for *: 'NoneType' and 'float'"
     ]
    }
   ],
   "source": [
    "!pip install pulp\n",
    "import pulp\n",
    "\n",
    "# Crear el problema de minimización\n",
    "prob = pulp.LpProblem(\"Optimizacion_de_transporte\", pulp.LpMinimize)\n",
    "\n",
    "# Variables\n",
    "destinations = merged_data1_2['destination'].unique()\n",
    "hubs = merged_data3_4['dest_hub'].unique()\n",
    "\n",
    "# Cambiando el formato de los nombres de las variables\n",
    "X = pulp.LpVariable.dicts(\"X\", [(i.replace(' ', '_'), j.replace(' ', '_')) for i in destinations for j in hubs], cat='Binary')\n",
    "\n",
    "# Calcular el costo total antes de agregarlo a la función objetivo\n",
    "total_cost = sum(X[i, j].varValue * merged_data1_2.loc[(merged_data1_2['destination'] == i) & \n",
    "                                                       (merged_data1_2['hub'] == j), 'fare'].values[0]\n",
    "                 if not merged_data1_2.loc[(merged_data1_2['destination'] == i) & \n",
    "                                            (merged_data1_2['hub'] == j), 'fare'].empty\n",
    "                 else 0\n",
    "                 for i in destinations for j in hubs)\n",
    "\n",
    "# Función objetivo\n",
    "prob += total_cost, \"Costo_Total\"\n",
    "\n",
    "\n",
    "\n",
    "# Restricciones\n",
    "# Cada 'destination' debe ser asignada a un 'hub'\n",
    "for i in destinations:\n",
    "    prob += pulp.lpSum(X[(i.replace(' ', '_'), j)] for j in hubs) == 1, f\"Restriccion_dest_{i.replace(' ', '_')}\"\n",
    "\n",
    "# Cada 'hub' debe tener una capacidad máxima de couriers\n",
    "for j in hubs:\n",
    "    prob += pulp.lpSum(X[(i.replace(' ', '_'), j)] for i in destinations) <= 1, f\"Restriccion_hub_{j.replace(' ', '_')}\"\n",
    "\n",
    "# Resolver el problema\n",
    "prob.solve()\n",
    "\n",
    "# Mostrar resultados\n",
    "print(f\"Status: {pulp.LpStatus[prob.status]}\")\n",
    "if pulp.LpStatus[prob.status] == \"Optimal\":\n",
    "    for v in prob.variables():\n",
    "        if v.varValue > 0:\n",
    "            print(v.name, \"=\", v.varValue)\n",
    "    print(f\"Costo total = ${pulp.value(prob.objective)}\")\n",
    "else:\n",
    "    print(\"El problema no tiene solucion optima.\")\n"
   ]
  },
  {
   "cell_type": "code",
   "execution_count": 135,
   "id": "49d3c814",
   "metadata": {},
   "outputs": [
    {
     "name": "stdout",
     "output_type": "stream",
     "text": [
      "Status: Optimal\n",
      "X_('dest_1',_'hub_1') = 1.0\n",
      "X_('dest_2',_'hub_4') = 1.0\n",
      "X_('dest_3',_'hub_5') = 1.0\n",
      "X_('dest_4',_'hub_2') = 1.0\n",
      "Costo total = $None\n"
     ]
    }
   ],
   "source": [
    "# Mostrar resultados\n",
    "print(f\"Status: {pulp.LpStatus[prob.status]}\")\n",
    "if pulp.LpStatus[prob.status] == \"Optimal\":\n",
    "    for v in prob.variables():\n",
    "        if v.varValue is not None and v.varValue > 0:\n",
    "            print(v.name, \"=\", v.varValue)\n",
    "    print(f\"Costo total = ${pulp.value(prob.objective)}\")\n",
    "else:\n",
    "    print(\"El problema no tiene solucion optima.\")\n"
   ]
  },
  {
   "cell_type": "code",
   "execution_count": null,
   "id": "2794ccbd",
   "metadata": {},
   "outputs": [],
   "source": []
  }
 ],
 "metadata": {
  "kernelspec": {
   "display_name": "Python 3 (ipykernel)",
   "language": "python",
   "name": "python3"
  },
  "language_info": {
   "codemirror_mode": {
    "name": "ipython",
    "version": 3
   },
   "file_extension": ".py",
   "mimetype": "text/x-python",
   "name": "python",
   "nbconvert_exporter": "python",
   "pygments_lexer": "ipython3",
   "version": "3.11.5"
  }
 },
 "nbformat": 4,
 "nbformat_minor": 5
}
